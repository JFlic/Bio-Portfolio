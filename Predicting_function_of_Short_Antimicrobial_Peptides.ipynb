{
  "nbformat": 4,
  "nbformat_minor": 0,
  "metadata": {
    "colab": {
      "provenance": []
    },
    "kernelspec": {
      "name": "python3",
      "display_name": "Python 3"
    },
    "language_info": {
      "name": "python"
    }
  },
  "cells": [
    {
      "cell_type": "markdown",
      "source": [
        "#Predicting the antimicrobial activity of peptides"
      ],
      "metadata": {
        "id": "nQIefkIRi5S5"
      }
    },
    {
      "cell_type": "markdown",
      "source": [
        "I got the idea for this project from the paper Deep-AmPEP30: Imporove Short Antimicrobial Peptides Prediction with Deep Learnin.\n",
        "https://www.ncbi.nlm.nih.gov/pmc/articles/PMC7256447/\n",
        "\n",
        "The basic idea of this project is to predict the percentages of different amino acids in peptides that either have negative antimicrobial effects or possitive antimicrobial effects."
      ],
      "metadata": {
        "id": "qXPOYblkp-Rp"
      }
    },
    {
      "cell_type": "code",
      "execution_count": 7,
      "metadata": {
        "colab": {
          "base_uri": "https://localhost:8080/"
        },
        "id": "O90t3yJmitnE",
        "outputId": "320ac074-8695-4a9a-b42e-3244ea608549"
      },
      "outputs": [
        {
          "output_type": "stream",
          "name": "stdout",
          "text": [
            "✨🍰✨ Everything looks OK!\n"
          ]
        }
      ],
      "source": [
        "#Installing conda\n",
        "!pip install -q condacolab\n",
        "import condacolab\n",
        "condacolab.install()"
      ]
    },
    {
      "cell_type": "code",
      "source": [
        "! wget https://repo.anaconda.com/miniconda/Miniconda3-py37_4.8.2-Linux-x86_64.sh\n",
        "! chmod +x Miniconda3-py37_4.8.2-Linux-x86_64.sh\n",
        "! bash ./Miniconda3-py37_4.8.2-Linux-x86_64.sh -b -f -p /usr/local\n",
        "import sys\n",
        "sys.path.append('/usr/local/lib/python3.7/site-packages/')"
      ],
      "metadata": {
        "colab": {
          "base_uri": "https://localhost:8080/"
        },
        "id": "nDQkzE-r7aWJ",
        "outputId": "a7f662dc-8811-486c-c932-ae43e17ef313"
      },
      "execution_count": 8,
      "outputs": [
        {
          "output_type": "stream",
          "name": "stdout",
          "text": [
            "--2024-09-08 00:19:57--  https://repo.anaconda.com/miniconda/Miniconda3-py37_4.8.2-Linux-x86_64.sh\n",
            "Resolving repo.anaconda.com (repo.anaconda.com)... 104.16.191.158, 104.16.32.241, 2606:4700::6810:bf9e, ...\n",
            "Connecting to repo.anaconda.com (repo.anaconda.com)|104.16.191.158|:443... connected.\n",
            "HTTP request sent, awaiting response... 200 OK\n",
            "Length: 85055499 (81M) [application/x-sh]\n",
            "Saving to: ‘Miniconda3-py37_4.8.2-Linux-x86_64.sh.2’\n",
            "\n",
            "Miniconda3-py37_4.8 100%[===================>]  81.12M   132MB/s    in 0.6s    \n",
            "\n",
            "2024-09-08 00:19:58 (132 MB/s) - ‘Miniconda3-py37_4.8.2-Linux-x86_64.sh.2’ saved [85055499/85055499]\n",
            "\n",
            "PREFIX=/usr/local\n",
            "Unpacking payload ...\n",
            "Collecting package metadata (current_repodata.json): - \b\b\\ \b\b| \b\bdone\n",
            "Solving environment: - \b\b\\ \b\b| \b\b/ WARNING conda.core.solve:_add_specs(601): pinned spec python=3.10 conflicts with explicit specs.  Overriding pinned spec.\n",
            "\b\b- \b\b\\ \b\b| \n",
            "The environment is inconsistent, please check the package plan carefully\n",
            "The following packages are causing the inconsistency:\n",
            "\n",
            "  - conda-forge/noarch::setuptools==68.2.2=pyhd8ed1ab_0\n",
            "  - conda-forge/linux-64::pycosat==0.6.6=py310h2372a71_0\n",
            "  - conda-forge/noarch::tqdm==4.66.1=pyhd8ed1ab_0\n",
            "  - conda-forge/noarch::colorama==0.4.6=pyhd8ed1ab_0\n",
            "  - conda-forge/linux-64::libmambapy==1.5.7=py310h39ff949_0\n",
            "  - conda-forge/noarch::archspec==0.2.3=pyhd8ed1ab_0\n",
            "  - conda-forge/noarch::conda-libmamba-solver==23.12.0=pyhd8ed1ab_0\n",
            "  - conda-forge/linux-64::openssl==3.3.2=hb9d3cd8_0\n",
            "  - conda-forge/linux-64::jsonpointer==2.4=py310hff52083_3\n",
            "  - conda-forge/noarch::pip==23.3.2=pyhd8ed1ab_0\n",
            "  - conda-forge/noarch::pysocks==1.7.1=pyha2e5f31_6\n",
            "  - conda-forge/noarch::truststore==0.8.0=pyhd8ed1ab_0\n",
            "  - conda-forge/noarch::jsonpatch==1.33=pyhd8ed1ab_0\n",
            "  - conda-forge/noarch::pluggy==1.3.0=pyhd8ed1ab_0\n",
            "  - conda-forge/noarch::requests==2.31.0=pyhd8ed1ab_0\n",
            "  - conda-forge/noarch::idna==3.6=pyhd8ed1ab_0\n",
            "  - conda-forge/linux-64::libmamba==1.5.7=had39da4_0\n",
            "  - conda-forge/linux-64::ruamel.yaml.clib==0.2.7=py310h2372a71_2\n",
            "  - conda-forge/noarch::conda-package-handling==2.2.0=pyh38be061_0\n",
            "  - conda-forge/noarch::packaging==23.2=pyhd8ed1ab_0\n",
            "  - conda-forge/noarch::boltons==23.1.1=pyhd8ed1ab_0\n",
            "  - conda-forge/linux-64::libssh2==1.11.0=h0841786_0\n",
            "  - conda-forge/linux-64::cffi==1.16.0=py310h2fee648_0\n",
            "  - conda-forge/noarch::pycparser==2.21=pyhd8ed1ab_0\n",
            "  - conda-forge/linux-64::krb5==1.21.2=h659d440_0\n",
            "  - conda-forge/linux-64::libarchive==3.7.2=h2aa1ff5_1\n",
            "  - conda-forge/linux-64::frozendict==2.4.4=py310hc51659f_0\n",
            "  - conda-forge/linux-64::libcurl==8.5.0=hca28451_0\n",
            "  - conda-forge/noarch::conda-package-streaming==0.9.0=pyhd8ed1ab_0\n",
            "  - conda-forge/linux-64::zstandard==0.22.0=py310h1275a96_0\n",
            "  - conda-forge/noarch::urllib3==2.1.0=pyhd8ed1ab_0\n",
            "  - conda-forge/linux-64::mamba==1.5.7=py310h51d5547_0\n",
            "  - conda-forge/linux-64::menuinst==2.0.1=py310hff52083_0\n",
            "  - conda-forge/noarch::wheel==0.42.0=pyhd8ed1ab_0\n",
            "  - conda-forge/noarch::certifi==2024.8.30=pyhd8ed1ab_0\n",
            "  - conda-forge/linux-64::libnghttp2==1.58.0=h47da74e_1\n",
            "  - conda-forge/linux-64::ruamel.yaml==0.18.5=py310h2372a71_0\n",
            "  - conda-forge/linux-64::python==3.10.13=hd12c33a_0_cpython\n",
            "  - conda-forge/linux-64::brotli-python==1.1.0=py310hc6cd4ac_1\n",
            "  - conda-forge/noarch::distro==1.8.0=pyhd8ed1ab_0\n",
            "  - conda-forge/noarch::platformdirs==4.1.0=pyhd8ed1ab_0\n",
            "  - conda-forge/noarch::charset-normalizer==3.3.2=pyhd8ed1ab_0\n",
            "  - conda-forge/linux-64::conda==24.7.1=py310hff52083_0\n",
            "\b\b/ \b\b- \b\b\\ \b\b| \b\b/ \b\b- \b\b\\ \b\b| \b\b/ \b\bfailed with initial frozen solve. Retrying with flexible solve.\n",
            "Solving environment: \\ \b\b| WARNING conda.core.solve:_add_specs(601): pinned spec python=3.10 conflicts with explicit specs.  Overriding pinned spec.\n",
            "\b\b/ \b\b- \b\b\\ \b\b| \b\b/ \b\b- \b\b\\ \b\b| \b\b/ \b\bfailed with repodata from current_repodata.json, will retry with next repodata source.\n",
            "Collecting package metadata (repodata.json): \\ \b\bdone\n",
            "Solving environment: / \b\b- \b\b\\ \b\b| WARNING conda.core.solve:_add_specs(601): pinned spec python=3.10 conflicts with explicit specs.  Overriding pinned spec.\n",
            "\b\b/ \b\b- \b\b\\ \n",
            "The environment is inconsistent, please check the package plan carefully\n",
            "The following packages are causing the inconsistency:\n",
            "\n",
            "  - conda-forge/noarch::setuptools==68.2.2=pyhd8ed1ab_0\n",
            "  - conda-forge/linux-64::pycosat==0.6.6=py310h2372a71_0\n",
            "  - conda-forge/noarch::tqdm==4.66.1=pyhd8ed1ab_0\n",
            "  - conda-forge/noarch::colorama==0.4.6=pyhd8ed1ab_0\n",
            "  - conda-forge/linux-64::libmambapy==1.5.7=py310h39ff949_0\n",
            "  - conda-forge/noarch::archspec==0.2.3=pyhd8ed1ab_0\n",
            "  - conda-forge/noarch::conda-libmamba-solver==23.12.0=pyhd8ed1ab_0\n",
            "  - conda-forge/linux-64::openssl==3.3.2=hb9d3cd8_0\n",
            "  - conda-forge/linux-64::jsonpointer==2.4=py310hff52083_3\n",
            "  - conda-forge/noarch::pip==23.3.2=pyhd8ed1ab_0\n",
            "  - conda-forge/noarch::pysocks==1.7.1=pyha2e5f31_6\n",
            "  - conda-forge/noarch::truststore==0.8.0=pyhd8ed1ab_0\n",
            "  - conda-forge/noarch::jsonpatch==1.33=pyhd8ed1ab_0\n",
            "  - conda-forge/noarch::pluggy==1.3.0=pyhd8ed1ab_0\n",
            "  - conda-forge/noarch::requests==2.31.0=pyhd8ed1ab_0\n",
            "  - conda-forge/noarch::idna==3.6=pyhd8ed1ab_0\n",
            "  - conda-forge/linux-64::libmamba==1.5.7=had39da4_0\n",
            "  - conda-forge/linux-64::ruamel.yaml.clib==0.2.7=py310h2372a71_2\n",
            "  - conda-forge/noarch::conda-package-handling==2.2.0=pyh38be061_0\n",
            "  - conda-forge/noarch::packaging==23.2=pyhd8ed1ab_0\n",
            "  - conda-forge/noarch::boltons==23.1.1=pyhd8ed1ab_0\n",
            "  - conda-forge/linux-64::libssh2==1.11.0=h0841786_0\n",
            "  - conda-forge/linux-64::cffi==1.16.0=py310h2fee648_0\n",
            "  - conda-forge/noarch::pycparser==2.21=pyhd8ed1ab_0\n",
            "  - conda-forge/linux-64::krb5==1.21.2=h659d440_0\n",
            "  - conda-forge/linux-64::libarchive==3.7.2=h2aa1ff5_1\n",
            "  - conda-forge/linux-64::frozendict==2.4.4=py310hc51659f_0\n",
            "  - conda-forge/linux-64::libcurl==8.5.0=hca28451_0\n",
            "  - conda-forge/noarch::conda-package-streaming==0.9.0=pyhd8ed1ab_0\n",
            "  - conda-forge/linux-64::zstandard==0.22.0=py310h1275a96_0\n",
            "  - conda-forge/noarch::urllib3==2.1.0=pyhd8ed1ab_0\n",
            "  - conda-forge/linux-64::mamba==1.5.7=py310h51d5547_0\n",
            "  - conda-forge/linux-64::menuinst==2.0.1=py310hff52083_0\n",
            "  - conda-forge/noarch::wheel==0.42.0=pyhd8ed1ab_0\n",
            "  - conda-forge/noarch::certifi==2024.8.30=pyhd8ed1ab_0\n",
            "  - conda-forge/linux-64::libnghttp2==1.58.0=h47da74e_1\n",
            "  - conda-forge/linux-64::ruamel.yaml==0.18.5=py310h2372a71_0\n",
            "  - conda-forge/linux-64::python==3.10.13=hd12c33a_0_cpython\n",
            "  - conda-forge/linux-64::brotli-python==1.1.0=py310hc6cd4ac_1\n",
            "  - conda-forge/noarch::distro==1.8.0=pyhd8ed1ab_0\n",
            "  - conda-forge/noarch::platformdirs==4.1.0=pyhd8ed1ab_0\n",
            "  - conda-forge/noarch::charset-normalizer==3.3.2=pyhd8ed1ab_0\n",
            "  - conda-forge/linux-64::conda==24.7.1=py310hff52083_0\n",
            "\b\b| \b\b/ \b\b- \b\b\\ \b\b| \b\b/ \b\b- \b\b\\ \b\b| \b\bfailed with initial frozen solve. Retrying with flexible solve.\n",
            "Solving environment: - \b\b\\ WARNING conda.core.solve:_add_specs(601): pinned spec python=3.10 conflicts with explicit specs.  Overriding pinned spec.\n",
            "\b\b| \b\b/ \b\b- \b\b\\ \b\b| \b\b/ \b\b- \b\b\\ \b\b| \n",
            "Found conflicts! Looking for incompatible packages.\n",
            "This can take several minutes.  Press CTRL-C to abort.\n",
            "\b\bfailed\n",
            "\n",
            "# >>>>>>>>>>>>>>>>>>>>>> ERROR REPORT <<<<<<<<<<<<<<<<<<<<<<\n",
            "\n",
            "    Traceback (most recent call last):\n",
            "      File \"site-packages/conda/cli/install.py\", line 265, in install\n",
            "      File \"site-packages/conda/core/solve.py\", line 117, in solve_for_transaction\n",
            "      File \"site-packages/conda/core/solve.py\", line 158, in solve_for_diff\n",
            "      File \"site-packages/conda/core/solve.py\", line 281, in solve_final_state\n",
            "      File \"site-packages/conda/common/io.py\", line 88, in decorated\n",
            "      File \"site-packages/conda/core/solve.py\", line 808, in _run_sat\n",
            "      File \"site-packages/conda/common/io.py\", line 88, in decorated\n",
            "      File \"site-packages/conda/resolve.py\", line 1316, in solve\n",
            "    conda.exceptions.UnsatisfiableError: \n",
            "    Did not find conflicting dependencies. If you would like to know which\n",
            "    packages conflict ensure that you have enabled unsatisfiable hints.\n",
            "    \n",
            "    conda config --set unsatisfiable_hints True\n",
            "                \n",
            "    \n",
            "    During handling of the above exception, another exception occurred:\n",
            "    \n",
            "    Traceback (most recent call last):\n",
            "      File \"site-packages/conda/exceptions.py\", line 1079, in __call__\n",
            "      File \"site-packages/conda/cli/main.py\", line 84, in _main\n",
            "      File \"site-packages/conda/cli/conda_argparse.py\", line 82, in do_call\n",
            "      File \"site-packages/conda/cli/main_install.py\", line 20, in execute\n",
            "      File \"site-packages/conda/cli/install.py\", line 299, in install\n",
            "      File \"site-packages/conda/core/solve.py\", line 117, in solve_for_transaction\n",
            "      File \"site-packages/conda/core/solve.py\", line 158, in solve_for_diff\n",
            "      File \"site-packages/conda/core/solve.py\", line 281, in solve_final_state\n",
            "      File \"site-packages/conda/common/io.py\", line 88, in decorated\n",
            "      File \"site-packages/conda/core/solve.py\", line 808, in _run_sat\n",
            "      File \"site-packages/conda/common/io.py\", line 88, in decorated\n",
            "      File \"site-packages/conda/resolve.py\", line 1318, in solve\n",
            "      File \"site-packages/conda/resolve.py\", line 347, in find_conflicts\n",
            "      File \"site-packages/conda/resolve.py\", line 507, in build_conflict_map\n",
            "      File \"site-packages/conda/resolve.py\", line 369, in breadth_first_search_for_dep_graph\n",
            "      File \"site-packages/conda/models/match_spec.py\", line 481, in union\n",
            "      File \"site-packages/conda/models/match_spec.py\", line 475, in merge\n",
            "      File \"site-packages/conda/models/match_spec.py\", line 475, in <lambda>\n",
            "      File \"site-packages/conda/models/match_spec.py\", line 502, in _merge\n",
            "      File \"site-packages/conda/models/match_spec.py\", line 764, in union\n",
            "    TypeError: sequence item 0: expected str instance, Channel found\n",
            "\n",
            "`$ /usr/local/conda.exe install --offline --file /usr/local/pkgs/env.txt -yp /usr/local`\n",
            "\n",
            "  environment variables:\n",
            "                 CIO_TEST=<not set>\n",
            "COLAB_DEBUG_ADAPTER_MUX_PATH=/usr/local/bin/dap_multiplexer\n",
            "COLAB_LANGUAGE_SERVER_PROXY=<set>\n",
            "           CONDA_CHANNELS=https://repo.anaconda.com/pkgs/main,https://repo.anaconda.com/pkgs/mai\n",
            "                          n,https://repo.anaconda.com/pkgs/r,https://repo.anaconda.com/pkgs/pro\n",
            "CONDA_EXTRA_SAFETY_CHECKS=no\n",
            "          CONDA_PKGS_DIRS=/usr/local/pkgs\n",
            "   CONDA_ROLLBACK_ENABLED=no\n",
            "               CONDA_ROOT=/tmp/_MEImN2OKR\n",
            "      CONDA_SAFETY_CHECKS=disabled\n",
            "          LD_LIBRARY_PATH=/tmp/_MEImN2OKR\n",
            "             LIBRARY_PATH=/usr/local/cuda/lib64/stubs\n",
            "      OLD_LD_LIBRARY_PATH=/usr/local/lib:/usr/local/nvidia/lib:/usr/local/nvidia/lib64\n",
            "                     PATH=/opt/bin:/usr/local/nvidia/bin:/usr/local/cuda/bin:/usr/local/sbin:/us\n",
            "                          r/local/bin:/usr/sbin:/usr/bin:/sbin:/bin:/tools/node/bin:/tools/googl\n",
            "                          e-cloud-sdk/bin\n",
            "               PYTHONPATH=/env/python\n",
            "           PYTHONWARNINGS=ignore:::pip._internal.cli.base_command\n",
            "       REQUESTS_CA_BUNDLE=<not set>\n",
            "            SSL_CERT_FILE=/tmp/_MEImN2OKR/certifi/cacert.pem\n",
            "               TCLLIBPATH=/usr/share/tcltk/tcllib1.20\n",
            "\n",
            "     active environment : None\n",
            "       user config file : /root/.condarc\n",
            " populated config files : \n",
            "          conda version : 4.8.2\n",
            "    conda-build version : not installed\n",
            "         python version : 3.7.6.final.0\n",
            "       virtual packages : __glibc=2.35\n",
            "       base environment : /tmp/_MEImN2OKR  (read only)\n",
            "           channel URLs : https://repo.anaconda.com/pkgs/main/linux-64  (offline)\n",
            "                          https://repo.anaconda.com/pkgs/main/noarch  (offline)\n",
            "                          https://repo.anaconda.com/pkgs/r/linux-64  (offline)\n",
            "                          https://repo.anaconda.com/pkgs/r/noarch  (offline)\n",
            "                          https://repo.anaconda.com/pkgs/pro/linux-64  (offline)\n",
            "                          https://repo.anaconda.com/pkgs/pro/noarch  (offline)\n",
            "          package cache : /usr/local/pkgs\n",
            "       envs directories : /root/.conda/envs\n",
            "                          /tmp/_MEImN2OKR/envs\n",
            "               platform : linux-64\n",
            "             user-agent : conda/4.8.2 requests/2.22.0 CPython/3.7.6 Linux/6.1.85+ ubuntu/22.04.3 glibc/2.35\n",
            "                UID:GID : 0:0\n",
            "             netrc file : None\n",
            "           offline mode : True\n",
            "\n",
            "\n",
            "An unexpected error has occurred. Conda has prepared the above report.\n",
            "\n",
            "Upload successful.\n"
          ]
        }
      ]
    },
    {
      "cell_type": "code",
      "source": [
        "# As of making this project the current conda version is 23.11.0\n",
        "!conda --version"
      ],
      "metadata": {
        "colab": {
          "base_uri": "https://localhost:8080/"
        },
        "id": "YS3PfXSMjcHy",
        "outputId": "84be808e-59ba-4427-afc6-b23bcaf1067d"
      },
      "execution_count": 9,
      "outputs": [
        {
          "output_type": "stream",
          "name": "stdout",
          "text": [
            "conda 24.7.1\n"
          ]
        }
      ]
    },
    {
      "cell_type": "markdown",
      "source": [
        "#Install and download Pfeature\n",
        "I'm using the Pfeatures library in order to compute the properties of amino acid chains. Which is in turn going to be used to predict the molecular properties of peptides."
      ],
      "metadata": {
        "id": "iWYXwzxgj5wS"
      }
    },
    {
      "cell_type": "code",
      "source": [
        "! wget https://github.com/raghavagps/Pfeature/raw/master/PyLib/Pfeature.zip"
      ],
      "metadata": {
        "colab": {
          "base_uri": "https://localhost:8080/"
        },
        "id": "OsifYxvajqIp",
        "outputId": "2253593b-0a40-44e3-b87d-5ed6eb2d181b"
      },
      "execution_count": 10,
      "outputs": [
        {
          "output_type": "stream",
          "name": "stdout",
          "text": [
            "--2024-09-08 00:20:27--  https://github.com/raghavagps/Pfeature/raw/master/PyLib/Pfeature.zip\n",
            "Resolving github.com (github.com)... 140.82.113.4\n",
            "Connecting to github.com (github.com)|140.82.113.4|:443... connected.\n",
            "HTTP request sent, awaiting response... 302 Found\n",
            "Location: https://raw.githubusercontent.com/raghavagps/Pfeature/master/PyLib/Pfeature.zip [following]\n",
            "--2024-09-08 00:20:28--  https://raw.githubusercontent.com/raghavagps/Pfeature/master/PyLib/Pfeature.zip\n",
            "Resolving raw.githubusercontent.com (raw.githubusercontent.com)... 185.199.109.133, 185.199.111.133, 185.199.108.133, ...\n",
            "Connecting to raw.githubusercontent.com (raw.githubusercontent.com)|185.199.109.133|:443... connected.\n",
            "HTTP request sent, awaiting response... 200 OK\n",
            "Length: 519486 (507K) [application/zip]\n",
            "Saving to: ‘Pfeature.zip.1’\n",
            "\n",
            "Pfeature.zip.1      100%[===================>] 507.31K  --.-KB/s    in 0.04s   \n",
            "\n",
            "2024-09-08 00:20:28 (13.9 MB/s) - ‘Pfeature.zip.1’ saved [519486/519486]\n",
            "\n"
          ]
        }
      ]
    },
    {
      "cell_type": "code",
      "source": [
        "! unzip Pfeature.zip"
      ],
      "metadata": {
        "colab": {
          "base_uri": "https://localhost:8080/"
        },
        "id": "HUnBXdup4DFj",
        "outputId": "48dc511b-d4c9-433e-9c52-f2bd462aa1e4"
      },
      "execution_count": 11,
      "outputs": [
        {
          "output_type": "stream",
          "name": "stdout",
          "text": [
            "Archive:  Pfeature.zip\n",
            "replace Pfeature/PKG-INFO? [y]es, [n]o, [A]ll, [N]one, [r]ename: "
          ]
        }
      ]
    },
    {
      "cell_type": "code",
      "source": [
        "%cd Pfeature"
      ],
      "metadata": {
        "colab": {
          "base_uri": "https://localhost:8080/"
        },
        "id": "lOW9RVHT44kJ",
        "outputId": "dd2ca336-0b38-4379-9b90-d3416eec42c0"
      },
      "execution_count": 12,
      "outputs": [
        {
          "output_type": "stream",
          "name": "stdout",
          "text": [
            "/content/Pfeature\n"
          ]
        }
      ]
    },
    {
      "cell_type": "code",
      "source": [
        "! python setup.py install"
      ],
      "metadata": {
        "colab": {
          "base_uri": "https://localhost:8080/"
        },
        "id": "zDvWwmU25cK0",
        "outputId": "87cf6b16-69d2-4011-9acb-0bc8218d3fb5"
      },
      "execution_count": 13,
      "outputs": [
        {
          "output_type": "stream",
          "name": "stdout",
          "text": [
            "/usr/local/lib/python3.10/site-packages/setuptools/_distutils/cmd.py:66: SetuptoolsDeprecationWarning: setup.py install is deprecated.\n",
            "!!\n",
            "\n",
            "        ********************************************************************************\n",
            "        Please avoid running ``setup.py`` directly.\n",
            "        Instead, use pypa/build, pypa/installer or other\n",
            "        standards-based tools.\n",
            "\n",
            "        See https://blog.ganssle.io/articles/2021/10/setup-py-deprecated.html for details.\n",
            "        ********************************************************************************\n",
            "\n",
            "!!\n",
            "  self.initialize_options()\n",
            "/usr/local/lib/python3.10/site-packages/setuptools/_distutils/cmd.py:66: EasyInstallDeprecationWarning: easy_install command is deprecated.\n",
            "!!\n",
            "\n",
            "        ********************************************************************************\n",
            "        Please avoid running ``setup.py`` and ``easy_install``.\n",
            "        Instead, use pypa/build, pypa/installer or other\n",
            "        standards-based tools.\n",
            "\n",
            "        See https://github.com/pypa/setuptools/issues/917 for details.\n",
            "        ********************************************************************************\n",
            "\n",
            "!!\n",
            "  self.initialize_options()\n"
          ]
        }
      ]
    },
    {
      "cell_type": "code",
      "source": [
        "import Pfeature"
      ],
      "metadata": {
        "id": "sF3pd2ri5jpS"
      },
      "execution_count": 14,
      "outputs": []
    },
    {
      "cell_type": "markdown",
      "source": [
        "#Installing CD-HIT\n",
        "Using CD-HIT to filter out redundency in the peptide sequences to get a unique sibset of peptides so that the model isn't bias."
      ],
      "metadata": {
        "id": "R9MSfoPtoLAY"
      }
    },
    {
      "cell_type": "code",
      "source": [
        "! conda install -c bioconda cd-hit -y"
      ],
      "metadata": {
        "colab": {
          "base_uri": "https://localhost:8080/"
        },
        "id": "hr7BEEXum8Ot",
        "outputId": "37041155-a03b-474b-eede-ed2aa494a250"
      },
      "execution_count": 15,
      "outputs": [
        {
          "output_type": "stream",
          "name": "stdout",
          "text": [
            "Channels:\n",
            " - bioconda\n",
            " - conda-forge\n",
            "Platform: linux-64\n",
            "Collecting package metadata (repodata.json): - \b\b\\ \b\b| \b\b/ \b\b- \b\b\\ \b\b| \b\b/ \b\b- \b\b\\ \b\b| \b\b/ \b\b- \b\b\\ \b\b| \b\b/ \b\b- \b\b\\ \b\b| \b\b/ \b\b- \b\b\\ \b\b| \b\b/ \b\b- \b\b\\ \b\b| \b\b/ \b\b- \b\b\\ \b\b| \b\b/ \b\b- \b\b\\ \b\b| \b\b/ \b\bdone\n",
            "Solving environment: \\ \b\b| \b\b/ \b\bdone\n",
            "\n",
            "# All requested packages already installed.\n",
            "\n"
          ]
        }
      ]
    },
    {
      "cell_type": "markdown",
      "source": [
        "#Downloading Peptide dataset"
      ],
      "metadata": {
        "id": "vXjkuebZsZG2"
      }
    },
    {
      "cell_type": "code",
      "source": [
        "#Positive dataset\n",
        "! wget https://raw.githubusercontent.com/dataprofessor/AMP/main/train_po.fasta"
      ],
      "metadata": {
        "colab": {
          "base_uri": "https://localhost:8080/"
        },
        "id": "KjZFbFXxrGMW",
        "outputId": "32f8a099-4a25-425b-b936-d20144280dcb"
      },
      "execution_count": 16,
      "outputs": [
        {
          "output_type": "stream",
          "name": "stdout",
          "text": [
            "--2024-09-08 00:22:20--  https://raw.githubusercontent.com/dataprofessor/AMP/main/train_po.fasta\n",
            "Resolving raw.githubusercontent.com (raw.githubusercontent.com)... 185.199.109.133, 185.199.111.133, 185.199.108.133, ...\n",
            "Connecting to raw.githubusercontent.com (raw.githubusercontent.com)|185.199.109.133|:443... connected.\n",
            "HTTP request sent, awaiting response... 200 OK\n",
            "Length: 52619 (51K) [text/plain]\n",
            "Saving to: ‘train_po.fasta.1’\n",
            "\n",
            "\rtrain_po.fasta.1      0%[                    ]       0  --.-KB/s               \rtrain_po.fasta.1    100%[===================>]  51.39K  --.-KB/s    in 0.008s  \n",
            "\n",
            "2024-09-08 00:22:20 (6.59 MB/s) - ‘train_po.fasta.1’ saved [52619/52619]\n",
            "\n"
          ]
        }
      ]
    },
    {
      "cell_type": "code",
      "source": [
        "#Negative dataset\n",
        "! wget https://raw.githubusercontent.com/dataprofessor/AMP/main/train_ne.fasta"
      ],
      "metadata": {
        "colab": {
          "base_uri": "https://localhost:8080/"
        },
        "id": "b-6J3HZpsTwQ",
        "outputId": "3c1087e3-fc7a-4948-9cd2-cd51339fd646"
      },
      "execution_count": 17,
      "outputs": [
        {
          "output_type": "stream",
          "name": "stdout",
          "text": [
            "--2024-09-08 00:22:20--  https://raw.githubusercontent.com/dataprofessor/AMP/main/train_ne.fasta\n",
            "Resolving raw.githubusercontent.com (raw.githubusercontent.com)... 185.199.108.133, 185.199.109.133, 185.199.110.133, ...\n",
            "Connecting to raw.githubusercontent.com (raw.githubusercontent.com)|185.199.108.133|:443... connected.\n",
            "HTTP request sent, awaiting response... 200 OK\n",
            "Length: 57206 (56K) [text/plain]\n",
            "Saving to: ‘train_ne.fasta.1’\n",
            "\n",
            "\rtrain_ne.fasta.1      0%[                    ]       0  --.-KB/s               \rtrain_ne.fasta.1    100%[===================>]  55.87K  --.-KB/s    in 0.009s  \n",
            "\n",
            "2024-09-08 00:22:20 (6.27 MB/s) - ‘train_ne.fasta.1’ saved [57206/57206]\n",
            "\n"
          ]
        }
      ]
    },
    {
      "cell_type": "markdown",
      "source": [
        "#What the dataset contains"
      ],
      "metadata": {
        "id": "VEo1d20Ts__l"
      }
    },
    {
      "cell_type": "markdown",
      "source": [
        "Each entry will have the identification name of the peptide followed by the peptide sequence."
      ],
      "metadata": {
        "id": "PsomoooHvXWu"
      }
    },
    {
      "cell_type": "markdown",
      "source": [
        "![Amino-acid-abbreviations.png](data:image/png;base64,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)"
      ],
      "metadata": {
        "id": "JfvmFh1G0xzS"
      }
    },
    {
      "cell_type": "code",
      "source": [
        "! head train_po.fasta"
      ],
      "metadata": {
        "colab": {
          "base_uri": "https://localhost:8080/"
        },
        "id": "C5nShvf9tGL2",
        "outputId": "4d745e4b-6c1e-4755-ef00-4ff2f11ff40d"
      },
      "execution_count": 18,
      "outputs": [
        {
          "output_type": "stream",
          "name": "stdout",
          "text": [
            ">amp5_30_1\n",
            "ACSAG\n",
            ">amp5_30_2\n",
            "AMVGT\n",
            ">amp5_30_3\n",
            "AMVSS\n",
            ">amp5_30_4\n",
            "CPFVC\n",
            ">amp5_30_5\n",
            "SPGGA\n"
          ]
        }
      ]
    },
    {
      "cell_type": "markdown",
      "source": [
        "#Removing redundant sequences using CD-HIT"
      ],
      "metadata": {
        "id": "dPm80yCg2TPi"
      }
    },
    {
      "cell_type": "code",
      "source": [
        "! cd-hit -i train_po.fasta -o train_po_cdhit.txt -c 0.99"
      ],
      "metadata": {
        "colab": {
          "base_uri": "https://localhost:8080/"
        },
        "id": "j1PqQnYf2SvR",
        "outputId": "426415e2-d8c3-416c-d1cd-29fd42d82925"
      },
      "execution_count": 19,
      "outputs": [
        {
          "output_type": "stream",
          "name": "stdout",
          "text": [
            "================================================================\n",
            "Program: CD-HIT, V4.8.1 (+OpenMP), Apr 11 2024, 11:47:57\n",
            "Command: cd-hit -i train_po.fasta -o train_po_cdhit.txt -c\n",
            "         0.99\n",
            "\n",
            "Started: Sun Sep  8 00:22:21 2024\n",
            "================================================================\n",
            "                            Output                              \n",
            "----------------------------------------------------------------\n",
            "total seq: 1445\n",
            "longest and shortest : 30 and 11\n",
            "Total letters: 30071\n",
            "Sequences have been sorted\n",
            "\n",
            "Approximated minimal memory consumption:\n",
            "Sequence        : 0M\n",
            "Buffer          : 1 X 16M = 16M\n",
            "Table           : 1 X 65M = 65M\n",
            "Miscellaneous   : 0M\n",
            "Total           : 81M\n",
            "\n",
            "Table limit with the given memory limit:\n",
            "Max number of representatives: 4000000\n",
            "Max number of word counting entries: 89796593\n",
            "\n",
            "\rcomparing sequences from          0  to       1445\n",
            ".\n",
            "     1445  finished       1337  clusters\n",
            "\n",
            "Approximated maximum memory consumption: 81M\n",
            "writing new database\n",
            "writing clustering information\n",
            "program completed !\n",
            "\n",
            "Total CPU time 0.12\n"
          ]
        }
      ]
    },
    {
      "cell_type": "code",
      "source": [
        "! cd-hit -i train_ne.fasta -o train_ne_cdhit.txt -c 0.99"
      ],
      "metadata": {
        "colab": {
          "base_uri": "https://localhost:8080/"
        },
        "id": "huMTKS692kTh",
        "outputId": "e053b92a-bf74-4a02-ae2b-1b5c08304583"
      },
      "execution_count": 20,
      "outputs": [
        {
          "output_type": "stream",
          "name": "stdout",
          "text": [
            "================================================================\n",
            "Program: CD-HIT, V4.8.1 (+OpenMP), Apr 11 2024, 11:47:57\n",
            "Command: cd-hit -i train_ne.fasta -o train_ne_cdhit.txt -c\n",
            "         0.99\n",
            "\n",
            "Started: Sun Sep  8 00:22:21 2024\n",
            "================================================================\n",
            "                            Output                              \n",
            "----------------------------------------------------------------\n",
            "total seq: 1445\n",
            "longest and shortest : 30 and 11\n",
            "Total letters: 30071\n",
            "Sequences have been sorted\n",
            "\n",
            "Approximated minimal memory consumption:\n",
            "Sequence        : 0M\n",
            "Buffer          : 1 X 16M = 16M\n",
            "Table           : 1 X 65M = 65M\n",
            "Miscellaneous   : 0M\n",
            "Total           : 81M\n",
            "\n",
            "Table limit with the given memory limit:\n",
            "Max number of representatives: 4000000\n",
            "Max number of word counting entries: 89796051\n",
            "\n",
            "\rcomparing sequences from          0  to       1445\n",
            ".\n",
            "     1445  finished       1422  clusters\n",
            "\n",
            "Approximated maximum memory consumption: 81M\n",
            "writing new database\n",
            "writing clustering information\n",
            "program completed !\n",
            "\n",
            "Total CPU time 0.12\n"
          ]
        }
      ]
    },
    {
      "cell_type": "code",
      "source": [
        "#List of files generated\n",
        "! ls -l"
      ],
      "metadata": {
        "colab": {
          "base_uri": "https://localhost:8080/"
        },
        "id": "aJwI8_AW2n8R",
        "outputId": "11275a09-32aa-43be-b4f5-c6017979c69c"
      },
      "execution_count": 21,
      "outputs": [
        {
          "output_type": "stream",
          "name": "stdout",
          "text": [
            "total 3160\n",
            "drwxr-xr-x 4 root root    4096 Sep  8 00:07 build\n",
            "-rw-r--r-- 1 root root    4332 Nov 10  2023 cuda-keyring_1.0-1_all.deb\n",
            "drwxr-xr-x 2 root root    4096 Sep  8 00:07 dist\n",
            "-rw-r--r-- 1 root root   86079 Sep 29  2020 Functions_Tables.pdf\n",
            "-rw-r--r-- 1 root root   17294 Nov 10  2023 NGC-DL-CONTAINER-LICENSE\n",
            "drwxr-xr-x 3 root root    4096 Sep  8 00:07 Pfeature\n",
            "-rw-r--r-- 1 root root  221146 Sep 29  2020 Pfeature_Descriptors.pdf\n",
            "drwxr-xr-x 2 root root    4096 Sep  8 00:21 Pfeature.egg-info\n",
            "-rw-r--r-- 1 root root     971 Sep 28  2020 PKG-INFO\n",
            "-rw-r--r-- 1 root root    1265 Sep 29  2020 README\n",
            "-rw-r--r-- 1 root root    1267 Sep 29  2020 setup.py\n",
            "-rw-r--r-- 1 root root  130978 Sep  8 00:13 train_ne_cdhit.aac.csv\n",
            "-rw-r--r-- 1 root root   54341 Sep  8 00:22 train_ne_cdhit.txt\n",
            "-rw-r--r-- 1 root root   61425 Sep  8 00:22 train_ne_cdhit.txt.clstr\n",
            "-rw-r--r-- 1 root root   57206 Sep  8 00:08 train_ne.fasta\n",
            "-rw-r--r-- 1 root root   57206 Sep  8 00:22 train_ne.fasta.1\n",
            "-rw-r--r-- 1 root root  122465 Sep  8 00:13 train_po_cdhit.aac.csv\n",
            "-rw-r--r-- 1 root root 2163384 Sep  8 00:13 train_po_cdhit.dpc.csv\n",
            "-rw-r--r-- 1 root root   47229 Sep  8 00:22 train_po_cdhit.txt\n",
            "-rw-r--r-- 1 root root   56665 Sep  8 00:22 train_po_cdhit.txt.clstr\n",
            "-rw-r--r-- 1 root root   52619 Sep  8 00:08 train_po.fasta\n",
            "-rw-r--r-- 1 root root   52619 Sep  8 00:22 train_po.fasta.1\n"
          ]
        }
      ]
    },
    {
      "cell_type": "code",
      "source": [
        "#Number of peptides before CD-HIT\n",
        "! grep \">\" train_po.fasta | wc -l"
      ],
      "metadata": {
        "colab": {
          "base_uri": "https://localhost:8080/"
        },
        "id": "fKeJOPb64AjL",
        "outputId": "96bfc23d-f83c-424c-ddf5-56278f466c79"
      },
      "execution_count": 22,
      "outputs": [
        {
          "output_type": "stream",
          "name": "stdout",
          "text": [
            "1529\n"
          ]
        }
      ]
    },
    {
      "cell_type": "code",
      "source": [
        "#Number of peptides after CD-HIT\n",
        "! grep \">\" train_po_cdhit.txt | wc -l"
      ],
      "metadata": {
        "colab": {
          "base_uri": "https://localhost:8080/"
        },
        "id": "Wjop2QWL3jCX",
        "outputId": "dd023906-c975-4167-c991-af0088a8e6ec"
      },
      "execution_count": 23,
      "outputs": [
        {
          "output_type": "stream",
          "name": "stdout",
          "text": [
            "1337\n"
          ]
        }
      ]
    },
    {
      "cell_type": "code",
      "source": [
        "#Number of peptides before CD-HIT\n",
        "! grep \">\" train_ne.fasta | wc -l"
      ],
      "metadata": {
        "colab": {
          "base_uri": "https://localhost:8080/"
        },
        "id": "VbSGfqCL3xIs",
        "outputId": "6fd2241b-a6eb-4b2a-9993-eccefc6eae6e"
      },
      "execution_count": 24,
      "outputs": [
        {
          "output_type": "stream",
          "name": "stdout",
          "text": [
            "1529\n"
          ]
        }
      ]
    },
    {
      "cell_type": "code",
      "source": [
        "#Number of peptides after CD-HIT\n",
        "! grep \">\" train_ne_cdhit.txt | wc -l"
      ],
      "metadata": {
        "colab": {
          "base_uri": "https://localhost:8080/"
        },
        "id": "K_72mdGA4IyP",
        "outputId": "7dc93870-05f9-4bf2-a5b1-4ee7511a4d27"
      },
      "execution_count": 25,
      "outputs": [
        {
          "output_type": "stream",
          "name": "stdout",
          "text": [
            "1422\n"
          ]
        }
      ]
    },
    {
      "cell_type": "markdown",
      "source": [
        "# This is a list of all the features that can be created using the Pfeatures library"
      ],
      "metadata": {
        "id": "CgCnusSy4qwQ"
      }
    },
    {
      "cell_type": "markdown",
      "source": [
        "Feature claass | Description | Function\n",
        "---|---|---\n",
        "AAC | Amino acid composition | aac_wp\n",
        "DPC | Dipeptide composition | dpc_wp\n",
        "TPC | Tripeptide composition | tpc_wp\n",
        "ABC | Atom and bond composition | atc_wp, btc_wp\n",
        "PCP | Physico-chemical properties | pcp_wp\n",
        "AAI | Amino acid index composition | aai_wp\n",
        "RRI | Repetitive Residue Information | rri_wp\n",
        "DDR | Distance distribution of residues |ddr_wp\n",
        "PRI | Physico-chemical properties repeat composition | pri_wp\n",
        "SEP | Shannon entropy | sep_wp\n",
        "SER | Shannon entropy of residue level | ser_wp\n",
        "SPC | Shannon entropy of physicochemical property | spc_wp\n",
        "ACR | Autocorrelation | acr_wp\n",
        "CTC | Conjoint Triad Calculation | ctc_wp\n",
        "CTD | Composition enhanced transition distribution | ctd_wp\n",
        "PAAC | Pseudo amino acid composition | paac_wp\n",
        "APAAC | Amphiphilic pseudo amino acid composition | apaac_wp\n",
        "QSO | Quasi sequence order | qos_wp\n",
        "SOC | Sequence order coupling | soc_wp"
      ],
      "metadata": {
        "id": "PZ7JV2t141Fc"
      }
    },
    {
      "cell_type": "code",
      "source": [
        "import pandas as pd"
      ],
      "metadata": {
        "id": "uud4bLiZ5gZY"
      },
      "execution_count": 26,
      "outputs": []
    },
    {
      "cell_type": "code",
      "source": [
        "# Amino acid composition (AAC)\n",
        "# the wp at the end of \"aac_wp\" means that this code is computing the properties for the entire peptide\n",
        "from Pfeature.pfeature import aac_wp\n",
        "\n",
        "def aac(input):\n",
        "  a = input.rstrip('txt')\n",
        "  output = a + 'aac.csv'\n",
        "  df_out = aac_wp(input, output)\n",
        "  df_in = pd.read_csv(output)\n",
        "  return df_in\n",
        "\n",
        "aac('train_po_cdhit.txt')"
      ],
      "metadata": {
        "colab": {
          "base_uri": "https://localhost:8080/",
          "height": 444
        },
        "id": "mwnaF64J5i_Q",
        "outputId": "a77afe3a-c18e-46b9-dbe6-99e6a23303fb"
      },
      "execution_count": 27,
      "outputs": [
        {
          "output_type": "execute_result",
          "data": {
            "text/plain": [
              "      AAC_A  AAC_C  AAC_D  AAC_E  AAC_F  AAC_G  AAC_H  AAC_I  AAC_K  AAC_L  \\\n",
              "0     27.27   0.00   9.09   0.00   9.09   9.09   0.00   0.00   0.00   0.00   \n",
              "1      0.00  54.55   0.00   9.09   0.00   0.00   0.00   0.00   0.00   0.00   \n",
              "2      0.00   0.00   9.09  18.18   9.09   9.09   9.09   0.00   0.00   9.09   \n",
              "3      0.00   0.00   0.00  18.18   9.09   9.09   9.09   0.00   0.00   9.09   \n",
              "4      0.00   0.00   9.09  18.18  18.18   9.09   0.00   0.00   0.00   9.09   \n",
              "...     ...    ...    ...    ...    ...    ...    ...    ...    ...    ...   \n",
              "1332  10.00   0.00   3.33   3.33   6.67  20.00   0.00   3.33  13.33  13.33   \n",
              "1333   6.67   3.33   0.00   0.00   3.33  20.00   6.67   3.33   3.33   6.67   \n",
              "1334  13.33   0.00   0.00   3.33   0.00   3.33  13.33   0.00   0.00  10.00   \n",
              "1335   6.67   0.00   6.67   6.67   0.00   6.67   3.33   6.67   6.67  26.67   \n",
              "1336   0.00  20.00   0.00   3.33   3.33  23.33   0.00   0.00   6.67   0.00   \n",
              "\n",
              "      AAC_M  AAC_N  AAC_P  AAC_Q  AAC_R  AAC_S  AAC_T  AAC_V  AAC_W  AAC_Y  \n",
              "0      0.00   9.09   9.09   0.00   0.00   0.00   0.00  18.18   0.00   9.09  \n",
              "1      0.00   0.00   0.00   0.00   0.00  18.18  18.18   0.00   0.00   0.00  \n",
              "2      9.09   0.00  18.18   0.00   0.00   0.00   0.00   9.09   0.00   0.00  \n",
              "3      9.09   9.09  18.18   0.00   0.00   0.00   0.00   9.09   0.00   0.00  \n",
              "4      9.09   9.09  18.18   0.00   0.00   0.00   0.00   0.00   0.00   0.00  \n",
              "...     ...    ...    ...    ...    ...    ...    ...    ...    ...    ...  \n",
              "1332   3.33   0.00   0.00   3.33   0.00   6.67   3.33  10.00   0.00   0.00  \n",
              "1333   0.00   6.67   0.00   3.33   6.67  10.00   3.33  13.33   3.33   0.00  \n",
              "1334   0.00   0.00  16.67   6.67  16.67   6.67   3.33   0.00   0.00   6.67  \n",
              "1335   0.00   3.33   0.00  10.00  10.00   3.33   3.33   0.00   0.00   0.00  \n",
              "1336   3.33   0.00   6.67   3.33  10.00   6.67   0.00   6.67   0.00   6.67  \n",
              "\n",
              "[1337 rows x 20 columns]"
            ],
            "text/html": [
              "\n",
              "  <div id=\"df-8deb2101-62c4-4177-8639-ea97f0fb00f8\" class=\"colab-df-container\">\n",
              "    <div>\n",
              "<style scoped>\n",
              "    .dataframe tbody tr th:only-of-type {\n",
              "        vertical-align: middle;\n",
              "    }\n",
              "\n",
              "    .dataframe tbody tr th {\n",
              "        vertical-align: top;\n",
              "    }\n",
              "\n",
              "    .dataframe thead th {\n",
              "        text-align: right;\n",
              "    }\n",
              "</style>\n",
              "<table border=\"1\" class=\"dataframe\">\n",
              "  <thead>\n",
              "    <tr style=\"text-align: right;\">\n",
              "      <th></th>\n",
              "      <th>AAC_A</th>\n",
              "      <th>AAC_C</th>\n",
              "      <th>AAC_D</th>\n",
              "      <th>AAC_E</th>\n",
              "      <th>AAC_F</th>\n",
              "      <th>AAC_G</th>\n",
              "      <th>AAC_H</th>\n",
              "      <th>AAC_I</th>\n",
              "      <th>AAC_K</th>\n",
              "      <th>AAC_L</th>\n",
              "      <th>AAC_M</th>\n",
              "      <th>AAC_N</th>\n",
              "      <th>AAC_P</th>\n",
              "      <th>AAC_Q</th>\n",
              "      <th>AAC_R</th>\n",
              "      <th>AAC_S</th>\n",
              "      <th>AAC_T</th>\n",
              "      <th>AAC_V</th>\n",
              "      <th>AAC_W</th>\n",
              "      <th>AAC_Y</th>\n",
              "    </tr>\n",
              "  </thead>\n",
              "  <tbody>\n",
              "    <tr>\n",
              "      <th>0</th>\n",
              "      <td>27.27</td>\n",
              "      <td>0.00</td>\n",
              "      <td>9.09</td>\n",
              "      <td>0.00</td>\n",
              "      <td>9.09</td>\n",
              "      <td>9.09</td>\n",
              "      <td>0.00</td>\n",
              "      <td>0.00</td>\n",
              "      <td>0.00</td>\n",
              "      <td>0.00</td>\n",
              "      <td>0.00</td>\n",
              "      <td>9.09</td>\n",
              "      <td>9.09</td>\n",
              "      <td>0.00</td>\n",
              "      <td>0.00</td>\n",
              "      <td>0.00</td>\n",
              "      <td>0.00</td>\n",
              "      <td>18.18</td>\n",
              "      <td>0.00</td>\n",
              "      <td>9.09</td>\n",
              "    </tr>\n",
              "    <tr>\n",
              "      <th>1</th>\n",
              "      <td>0.00</td>\n",
              "      <td>54.55</td>\n",
              "      <td>0.00</td>\n",
              "      <td>9.09</td>\n",
              "      <td>0.00</td>\n",
              "      <td>0.00</td>\n",
              "      <td>0.00</td>\n",
              "      <td>0.00</td>\n",
              "      <td>0.00</td>\n",
              "      <td>0.00</td>\n",
              "      <td>0.00</td>\n",
              "      <td>0.00</td>\n",
              "      <td>0.00</td>\n",
              "      <td>0.00</td>\n",
              "      <td>0.00</td>\n",
              "      <td>18.18</td>\n",
              "      <td>18.18</td>\n",
              "      <td>0.00</td>\n",
              "      <td>0.00</td>\n",
              "      <td>0.00</td>\n",
              "    </tr>\n",
              "    <tr>\n",
              "      <th>2</th>\n",
              "      <td>0.00</td>\n",
              "      <td>0.00</td>\n",
              "      <td>9.09</td>\n",
              "      <td>18.18</td>\n",
              "      <td>9.09</td>\n",
              "      <td>9.09</td>\n",
              "      <td>9.09</td>\n",
              "      <td>0.00</td>\n",
              "      <td>0.00</td>\n",
              "      <td>9.09</td>\n",
              "      <td>9.09</td>\n",
              "      <td>0.00</td>\n",
              "      <td>18.18</td>\n",
              "      <td>0.00</td>\n",
              "      <td>0.00</td>\n",
              "      <td>0.00</td>\n",
              "      <td>0.00</td>\n",
              "      <td>9.09</td>\n",
              "      <td>0.00</td>\n",
              "      <td>0.00</td>\n",
              "    </tr>\n",
              "    <tr>\n",
              "      <th>3</th>\n",
              "      <td>0.00</td>\n",
              "      <td>0.00</td>\n",
              "      <td>0.00</td>\n",
              "      <td>18.18</td>\n",
              "      <td>9.09</td>\n",
              "      <td>9.09</td>\n",
              "      <td>9.09</td>\n",
              "      <td>0.00</td>\n",
              "      <td>0.00</td>\n",
              "      <td>9.09</td>\n",
              "      <td>9.09</td>\n",
              "      <td>9.09</td>\n",
              "      <td>18.18</td>\n",
              "      <td>0.00</td>\n",
              "      <td>0.00</td>\n",
              "      <td>0.00</td>\n",
              "      <td>0.00</td>\n",
              "      <td>9.09</td>\n",
              "      <td>0.00</td>\n",
              "      <td>0.00</td>\n",
              "    </tr>\n",
              "    <tr>\n",
              "      <th>4</th>\n",
              "      <td>0.00</td>\n",
              "      <td>0.00</td>\n",
              "      <td>9.09</td>\n",
              "      <td>18.18</td>\n",
              "      <td>18.18</td>\n",
              "      <td>9.09</td>\n",
              "      <td>0.00</td>\n",
              "      <td>0.00</td>\n",
              "      <td>0.00</td>\n",
              "      <td>9.09</td>\n",
              "      <td>9.09</td>\n",
              "      <td>9.09</td>\n",
              "      <td>18.18</td>\n",
              "      <td>0.00</td>\n",
              "      <td>0.00</td>\n",
              "      <td>0.00</td>\n",
              "      <td>0.00</td>\n",
              "      <td>0.00</td>\n",
              "      <td>0.00</td>\n",
              "      <td>0.00</td>\n",
              "    </tr>\n",
              "    <tr>\n",
              "      <th>...</th>\n",
              "      <td>...</td>\n",
              "      <td>...</td>\n",
              "      <td>...</td>\n",
              "      <td>...</td>\n",
              "      <td>...</td>\n",
              "      <td>...</td>\n",
              "      <td>...</td>\n",
              "      <td>...</td>\n",
              "      <td>...</td>\n",
              "      <td>...</td>\n",
              "      <td>...</td>\n",
              "      <td>...</td>\n",
              "      <td>...</td>\n",
              "      <td>...</td>\n",
              "      <td>...</td>\n",
              "      <td>...</td>\n",
              "      <td>...</td>\n",
              "      <td>...</td>\n",
              "      <td>...</td>\n",
              "      <td>...</td>\n",
              "    </tr>\n",
              "    <tr>\n",
              "      <th>1332</th>\n",
              "      <td>10.00</td>\n",
              "      <td>0.00</td>\n",
              "      <td>3.33</td>\n",
              "      <td>3.33</td>\n",
              "      <td>6.67</td>\n",
              "      <td>20.00</td>\n",
              "      <td>0.00</td>\n",
              "      <td>3.33</td>\n",
              "      <td>13.33</td>\n",
              "      <td>13.33</td>\n",
              "      <td>3.33</td>\n",
              "      <td>0.00</td>\n",
              "      <td>0.00</td>\n",
              "      <td>3.33</td>\n",
              "      <td>0.00</td>\n",
              "      <td>6.67</td>\n",
              "      <td>3.33</td>\n",
              "      <td>10.00</td>\n",
              "      <td>0.00</td>\n",
              "      <td>0.00</td>\n",
              "    </tr>\n",
              "    <tr>\n",
              "      <th>1333</th>\n",
              "      <td>6.67</td>\n",
              "      <td>3.33</td>\n",
              "      <td>0.00</td>\n",
              "      <td>0.00</td>\n",
              "      <td>3.33</td>\n",
              "      <td>20.00</td>\n",
              "      <td>6.67</td>\n",
              "      <td>3.33</td>\n",
              "      <td>3.33</td>\n",
              "      <td>6.67</td>\n",
              "      <td>0.00</td>\n",
              "      <td>6.67</td>\n",
              "      <td>0.00</td>\n",
              "      <td>3.33</td>\n",
              "      <td>6.67</td>\n",
              "      <td>10.00</td>\n",
              "      <td>3.33</td>\n",
              "      <td>13.33</td>\n",
              "      <td>3.33</td>\n",
              "      <td>0.00</td>\n",
              "    </tr>\n",
              "    <tr>\n",
              "      <th>1334</th>\n",
              "      <td>13.33</td>\n",
              "      <td>0.00</td>\n",
              "      <td>0.00</td>\n",
              "      <td>3.33</td>\n",
              "      <td>0.00</td>\n",
              "      <td>3.33</td>\n",
              "      <td>13.33</td>\n",
              "      <td>0.00</td>\n",
              "      <td>0.00</td>\n",
              "      <td>10.00</td>\n",
              "      <td>0.00</td>\n",
              "      <td>0.00</td>\n",
              "      <td>16.67</td>\n",
              "      <td>6.67</td>\n",
              "      <td>16.67</td>\n",
              "      <td>6.67</td>\n",
              "      <td>3.33</td>\n",
              "      <td>0.00</td>\n",
              "      <td>0.00</td>\n",
              "      <td>6.67</td>\n",
              "    </tr>\n",
              "    <tr>\n",
              "      <th>1335</th>\n",
              "      <td>6.67</td>\n",
              "      <td>0.00</td>\n",
              "      <td>6.67</td>\n",
              "      <td>6.67</td>\n",
              "      <td>0.00</td>\n",
              "      <td>6.67</td>\n",
              "      <td>3.33</td>\n",
              "      <td>6.67</td>\n",
              "      <td>6.67</td>\n",
              "      <td>26.67</td>\n",
              "      <td>0.00</td>\n",
              "      <td>3.33</td>\n",
              "      <td>0.00</td>\n",
              "      <td>10.00</td>\n",
              "      <td>10.00</td>\n",
              "      <td>3.33</td>\n",
              "      <td>3.33</td>\n",
              "      <td>0.00</td>\n",
              "      <td>0.00</td>\n",
              "      <td>0.00</td>\n",
              "    </tr>\n",
              "    <tr>\n",
              "      <th>1336</th>\n",
              "      <td>0.00</td>\n",
              "      <td>20.00</td>\n",
              "      <td>0.00</td>\n",
              "      <td>3.33</td>\n",
              "      <td>3.33</td>\n",
              "      <td>23.33</td>\n",
              "      <td>0.00</td>\n",
              "      <td>0.00</td>\n",
              "      <td>6.67</td>\n",
              "      <td>0.00</td>\n",
              "      <td>3.33</td>\n",
              "      <td>0.00</td>\n",
              "      <td>6.67</td>\n",
              "      <td>3.33</td>\n",
              "      <td>10.00</td>\n",
              "      <td>6.67</td>\n",
              "      <td>0.00</td>\n",
              "      <td>6.67</td>\n",
              "      <td>0.00</td>\n",
              "      <td>6.67</td>\n",
              "    </tr>\n",
              "  </tbody>\n",
              "</table>\n",
              "<p>1337 rows × 20 columns</p>\n",
              "</div>\n",
              "    <div class=\"colab-df-buttons\">\n",
              "\n",
              "  <div class=\"colab-df-container\">\n",
              "    <button class=\"colab-df-convert\" onclick=\"convertToInteractive('df-8deb2101-62c4-4177-8639-ea97f0fb00f8')\"\n",
              "            title=\"Convert this dataframe to an interactive table.\"\n",
              "            style=\"display:none;\">\n",
              "\n",
              "  <svg xmlns=\"http://www.w3.org/2000/svg\" height=\"24px\" viewBox=\"0 -960 960 960\">\n",
              "    <path d=\"M120-120v-720h720v720H120Zm60-500h600v-160H180v160Zm220 220h160v-160H400v160Zm0 220h160v-160H400v160ZM180-400h160v-160H180v160Zm440 0h160v-160H620v160ZM180-180h160v-160H180v160Zm440 0h160v-160H620v160Z\"/>\n",
              "  </svg>\n",
              "    </button>\n",
              "\n",
              "  <style>\n",
              "    .colab-df-container {\n",
              "      display:flex;\n",
              "      gap: 12px;\n",
              "    }\n",
              "\n",
              "    .colab-df-convert {\n",
              "      background-color: #E8F0FE;\n",
              "      border: none;\n",
              "      border-radius: 50%;\n",
              "      cursor: pointer;\n",
              "      display: none;\n",
              "      fill: #1967D2;\n",
              "      height: 32px;\n",
              "      padding: 0 0 0 0;\n",
              "      width: 32px;\n",
              "    }\n",
              "\n",
              "    .colab-df-convert:hover {\n",
              "      background-color: #E2EBFA;\n",
              "      box-shadow: 0px 1px 2px rgba(60, 64, 67, 0.3), 0px 1px 3px 1px rgba(60, 64, 67, 0.15);\n",
              "      fill: #174EA6;\n",
              "    }\n",
              "\n",
              "    .colab-df-buttons div {\n",
              "      margin-bottom: 4px;\n",
              "    }\n",
              "\n",
              "    [theme=dark] .colab-df-convert {\n",
              "      background-color: #3B4455;\n",
              "      fill: #D2E3FC;\n",
              "    }\n",
              "\n",
              "    [theme=dark] .colab-df-convert:hover {\n",
              "      background-color: #434B5C;\n",
              "      box-shadow: 0px 1px 3px 1px rgba(0, 0, 0, 0.15);\n",
              "      filter: drop-shadow(0px 1px 2px rgba(0, 0, 0, 0.3));\n",
              "      fill: #FFFFFF;\n",
              "    }\n",
              "  </style>\n",
              "\n",
              "    <script>\n",
              "      const buttonEl =\n",
              "        document.querySelector('#df-8deb2101-62c4-4177-8639-ea97f0fb00f8 button.colab-df-convert');\n",
              "      buttonEl.style.display =\n",
              "        google.colab.kernel.accessAllowed ? 'block' : 'none';\n",
              "\n",
              "      async function convertToInteractive(key) {\n",
              "        const element = document.querySelector('#df-8deb2101-62c4-4177-8639-ea97f0fb00f8');\n",
              "        const dataTable =\n",
              "          await google.colab.kernel.invokeFunction('convertToInteractive',\n",
              "                                                    [key], {});\n",
              "        if (!dataTable) return;\n",
              "\n",
              "        const docLinkHtml = 'Like what you see? Visit the ' +\n",
              "          '<a target=\"_blank\" href=https://colab.research.google.com/notebooks/data_table.ipynb>data table notebook</a>'\n",
              "          + ' to learn more about interactive tables.';\n",
              "        element.innerHTML = '';\n",
              "        dataTable['output_type'] = 'display_data';\n",
              "        await google.colab.output.renderOutput(dataTable, element);\n",
              "        const docLink = document.createElement('div');\n",
              "        docLink.innerHTML = docLinkHtml;\n",
              "        element.appendChild(docLink);\n",
              "      }\n",
              "    </script>\n",
              "  </div>\n",
              "\n",
              "\n",
              "<div id=\"df-e127f4db-ac9b-4554-b226-7024a167553a\">\n",
              "  <button class=\"colab-df-quickchart\" onclick=\"quickchart('df-e127f4db-ac9b-4554-b226-7024a167553a')\"\n",
              "            title=\"Suggest charts\"\n",
              "            style=\"display:none;\">\n",
              "\n",
              "<svg xmlns=\"http://www.w3.org/2000/svg\" height=\"24px\"viewBox=\"0 0 24 24\"\n",
              "     width=\"24px\">\n",
              "    <g>\n",
              "        <path d=\"M19 3H5c-1.1 0-2 .9-2 2v14c0 1.1.9 2 2 2h14c1.1 0 2-.9 2-2V5c0-1.1-.9-2-2-2zM9 17H7v-7h2v7zm4 0h-2V7h2v10zm4 0h-2v-4h2v4z\"/>\n",
              "    </g>\n",
              "</svg>\n",
              "  </button>\n",
              "\n",
              "<style>\n",
              "  .colab-df-quickchart {\n",
              "      --bg-color: #E8F0FE;\n",
              "      --fill-color: #1967D2;\n",
              "      --hover-bg-color: #E2EBFA;\n",
              "      --hover-fill-color: #174EA6;\n",
              "      --disabled-fill-color: #AAA;\n",
              "      --disabled-bg-color: #DDD;\n",
              "  }\n",
              "\n",
              "  [theme=dark] .colab-df-quickchart {\n",
              "      --bg-color: #3B4455;\n",
              "      --fill-color: #D2E3FC;\n",
              "      --hover-bg-color: #434B5C;\n",
              "      --hover-fill-color: #FFFFFF;\n",
              "      --disabled-bg-color: #3B4455;\n",
              "      --disabled-fill-color: #666;\n",
              "  }\n",
              "\n",
              "  .colab-df-quickchart {\n",
              "    background-color: var(--bg-color);\n",
              "    border: none;\n",
              "    border-radius: 50%;\n",
              "    cursor: pointer;\n",
              "    display: none;\n",
              "    fill: var(--fill-color);\n",
              "    height: 32px;\n",
              "    padding: 0;\n",
              "    width: 32px;\n",
              "  }\n",
              "\n",
              "  .colab-df-quickchart:hover {\n",
              "    background-color: var(--hover-bg-color);\n",
              "    box-shadow: 0 1px 2px rgba(60, 64, 67, 0.3), 0 1px 3px 1px rgba(60, 64, 67, 0.15);\n",
              "    fill: var(--button-hover-fill-color);\n",
              "  }\n",
              "\n",
              "  .colab-df-quickchart-complete:disabled,\n",
              "  .colab-df-quickchart-complete:disabled:hover {\n",
              "    background-color: var(--disabled-bg-color);\n",
              "    fill: var(--disabled-fill-color);\n",
              "    box-shadow: none;\n",
              "  }\n",
              "\n",
              "  .colab-df-spinner {\n",
              "    border: 2px solid var(--fill-color);\n",
              "    border-color: transparent;\n",
              "    border-bottom-color: var(--fill-color);\n",
              "    animation:\n",
              "      spin 1s steps(1) infinite;\n",
              "  }\n",
              "\n",
              "  @keyframes spin {\n",
              "    0% {\n",
              "      border-color: transparent;\n",
              "      border-bottom-color: var(--fill-color);\n",
              "      border-left-color: var(--fill-color);\n",
              "    }\n",
              "    20% {\n",
              "      border-color: transparent;\n",
              "      border-left-color: var(--fill-color);\n",
              "      border-top-color: var(--fill-color);\n",
              "    }\n",
              "    30% {\n",
              "      border-color: transparent;\n",
              "      border-left-color: var(--fill-color);\n",
              "      border-top-color: var(--fill-color);\n",
              "      border-right-color: var(--fill-color);\n",
              "    }\n",
              "    40% {\n",
              "      border-color: transparent;\n",
              "      border-right-color: var(--fill-color);\n",
              "      border-top-color: var(--fill-color);\n",
              "    }\n",
              "    60% {\n",
              "      border-color: transparent;\n",
              "      border-right-color: var(--fill-color);\n",
              "    }\n",
              "    80% {\n",
              "      border-color: transparent;\n",
              "      border-right-color: var(--fill-color);\n",
              "      border-bottom-color: var(--fill-color);\n",
              "    }\n",
              "    90% {\n",
              "      border-color: transparent;\n",
              "      border-bottom-color: var(--fill-color);\n",
              "    }\n",
              "  }\n",
              "</style>\n",
              "\n",
              "  <script>\n",
              "    async function quickchart(key) {\n",
              "      const quickchartButtonEl =\n",
              "        document.querySelector('#' + key + ' button');\n",
              "      quickchartButtonEl.disabled = true;  // To prevent multiple clicks.\n",
              "      quickchartButtonEl.classList.add('colab-df-spinner');\n",
              "      try {\n",
              "        const charts = await google.colab.kernel.invokeFunction(\n",
              "            'suggestCharts', [key], {});\n",
              "      } catch (error) {\n",
              "        console.error('Error during call to suggestCharts:', error);\n",
              "      }\n",
              "      quickchartButtonEl.classList.remove('colab-df-spinner');\n",
              "      quickchartButtonEl.classList.add('colab-df-quickchart-complete');\n",
              "    }\n",
              "    (() => {\n",
              "      let quickchartButtonEl =\n",
              "        document.querySelector('#df-e127f4db-ac9b-4554-b226-7024a167553a button');\n",
              "      quickchartButtonEl.style.display =\n",
              "        google.colab.kernel.accessAllowed ? 'block' : 'none';\n",
              "    })();\n",
              "  </script>\n",
              "</div>\n",
              "\n",
              "    </div>\n",
              "  </div>\n"
            ],
            "application/vnd.google.colaboratory.intrinsic+json": {
              "type": "dataframe",
              "summary": "{\n  \"name\": \"aac('train_po_cdhit\",\n  \"rows\": 1337,\n  \"fields\": [\n    {\n      \"column\": \"AAC_A\",\n      \"properties\": {\n        \"dtype\": \"number\",\n        \"std\": 7.4144771995158605,\n        \"min\": 0.0,\n        \"max\": 50.0,\n        \"num_unique_values\": 89,\n        \"samples\": [\n          4.55,\n          26.09,\n          11.11\n        ],\n        \"semantic_type\": \"\",\n        \"description\": \"\"\n      }\n    },\n    {\n      \"column\": \"AAC_C\",\n      \"properties\": {\n        \"dtype\": \"number\",\n        \"std\": 7.75335710674831,\n        \"min\": 0.0,\n        \"max\": 54.55,\n        \"num_unique_values\": 68,\n        \"samples\": [\n          16.0,\n          5.88,\n          16.67\n        ],\n        \"semantic_type\": \"\",\n        \"description\": \"\"\n      }\n    },\n    {\n      \"column\": \"AAC_D\",\n      \"properties\": {\n        \"dtype\": \"number\",\n        \"std\": 3.3919261151731317,\n        \"min\": 0.0,\n        \"max\": 23.53,\n        \"num_unique_values\": 41,\n        \"samples\": [\n          9.52,\n          12.5,\n          14.29\n        ],\n        \"semantic_type\": \"\",\n        \"description\": \"\"\n      }\n    },\n    {\n      \"column\": \"AAC_E\",\n      \"properties\": {\n        \"dtype\": \"number\",\n        \"std\": 3.734678802763595,\n        \"min\": 0.0,\n        \"max\": 29.63,\n        \"num_unique_values\": 50,\n        \"samples\": [\n          18.75,\n          18.52,\n          8.7\n        ],\n        \"semantic_type\": \"\",\n        \"description\": \"\"\n      }\n    },\n    {\n      \"column\": \"AAC_F\",\n      \"properties\": {\n        \"dtype\": \"number\",\n        \"std\": 5.595015926354058,\n        \"min\": 0.0,\n        \"max\": 30.77,\n        \"num_unique_values\": 60,\n        \"samples\": [\n          9.09,\n          7.69,\n          13.64\n        ],\n        \"semantic_type\": \"\",\n        \"description\": \"\"\n      }\n    },\n    {\n      \"column\": \"AAC_G\",\n      \"properties\": {\n        \"dtype\": \"number\",\n        \"std\": 7.537475784968114,\n        \"min\": 0.0,\n        \"max\": 67.86,\n        \"num_unique_values\": 81,\n        \"samples\": [\n          10.53,\n          9.09,\n          5.88\n        ],\n        \"semantic_type\": \"\",\n        \"description\": \"\"\n      }\n    },\n    {\n      \"column\": \"AAC_H\",\n      \"properties\": {\n        \"dtype\": \"number\",\n        \"std\": 4.580124493253743,\n        \"min\": 0.0,\n        \"max\": 61.9,\n        \"num_unique_values\": 57,\n        \"samples\": [\n          0.0,\n          7.14,\n          17.39\n        ],\n        \"semantic_type\": \"\",\n        \"description\": \"\"\n      }\n    },\n    {\n      \"column\": \"AAC_I\",\n      \"properties\": {\n        \"dtype\": \"number\",\n        \"std\": 6.638733057492041,\n        \"min\": 0.0,\n        \"max\": 38.46,\n        \"num_unique_values\": 69,\n        \"samples\": [\n          11.76,\n          0.0,\n          13.04\n        ],\n        \"semantic_type\": \"\",\n        \"description\": \"\"\n      }\n    },\n    {\n      \"column\": \"AAC_K\",\n      \"properties\": {\n        \"dtype\": \"number\",\n        \"std\": 8.014277600747537,\n        \"min\": 0.0,\n        \"max\": 57.14,\n        \"num_unique_values\": 95,\n        \"samples\": [\n          4.0,\n          26.67,\n          24.0\n        ],\n        \"semantic_type\": \"\",\n        \"description\": \"\"\n      }\n    },\n    {\n      \"column\": \"AAC_L\",\n      \"properties\": {\n        \"dtype\": \"number\",\n        \"std\": 10.451540165950547,\n        \"min\": 0.0,\n        \"max\": 61.54,\n        \"num_unique_values\": 103,\n        \"samples\": [\n          18.75,\n          22.73,\n          19.05\n        ],\n        \"semantic_type\": \"\",\n        \"description\": \"\"\n      }\n    },\n    {\n      \"column\": \"AAC_M\",\n      \"properties\": {\n        \"dtype\": \"number\",\n        \"std\": 2.7694934518300265,\n        \"min\": 0.0,\n        \"max\": 23.53,\n        \"num_unique_values\": 37,\n        \"samples\": [\n          5.26,\n          23.53,\n          15.38\n        ],\n        \"semantic_type\": \"\",\n        \"description\": \"\"\n      }\n    },\n    {\n      \"column\": \"AAC_N\",\n      \"properties\": {\n        \"dtype\": \"number\",\n        \"std\": 3.8651976062396827,\n        \"min\": 0.0,\n        \"max\": 22.22,\n        \"num_unique_values\": 48,\n        \"samples\": [\n          9.52,\n          18.52,\n          4.76\n        ],\n        \"semantic_type\": \"\",\n        \"description\": \"\"\n      }\n    },\n    {\n      \"column\": \"AAC_P\",\n      \"properties\": {\n        \"dtype\": \"number\",\n        \"std\": 6.397414624197628,\n        \"min\": 0.0,\n        \"max\": 66.67,\n        \"num_unique_values\": 71,\n        \"samples\": [\n          5.88,\n          9.09,\n          8.7\n        ],\n        \"semantic_type\": \"\",\n        \"description\": \"\"\n      }\n    },\n    {\n      \"column\": \"AAC_Q\",\n      \"properties\": {\n        \"dtype\": \"number\",\n        \"std\": 3.406415450056843,\n        \"min\": 0.0,\n        \"max\": 33.33,\n        \"num_unique_values\": 48,\n        \"samples\": [\n          9.09,\n          7.41,\n          14.29\n        ],\n        \"semantic_type\": \"\",\n        \"description\": \"\"\n      }\n    },\n    {\n      \"column\": \"AAC_R\",\n      \"properties\": {\n        \"dtype\": \"number\",\n        \"std\": 7.510137556854578,\n        \"min\": 0.0,\n        \"max\": 54.17,\n        \"num_unique_values\": 82,\n        \"samples\": [\n          5.56,\n          0.0,\n          18.75\n        ],\n        \"semantic_type\": \"\",\n        \"description\": \"\"\n      }\n    },\n    {\n      \"column\": \"AAC_S\",\n      \"properties\": {\n        \"dtype\": \"number\",\n        \"std\": 5.405008205235999,\n        \"min\": 0.0,\n        \"max\": 31.25,\n        \"num_unique_values\": 61,\n        \"samples\": [\n          0.0,\n          25.0,\n          12.0\n        ],\n        \"semantic_type\": \"\",\n        \"description\": \"\"\n      }\n    },\n    {\n      \"column\": \"AAC_T\",\n      \"properties\": {\n        \"dtype\": \"number\",\n        \"std\": 4.686417240733458,\n        \"min\": 0.0,\n        \"max\": 35.71,\n        \"num_unique_values\": 57,\n        \"samples\": [\n          0.0,\n          15.38,\n          4.76\n        ],\n        \"semantic_type\": \"\",\n        \"description\": \"\"\n      }\n    },\n    {\n      \"column\": \"AAC_V\",\n      \"properties\": {\n        \"dtype\": \"number\",\n        \"std\": 5.957893936872721,\n        \"min\": 0.0,\n        \"max\": 33.33,\n        \"num_unique_values\": 71,\n        \"samples\": [\n          29.41,\n          18.18,\n          33.33\n        ],\n        \"semantic_type\": \"\",\n        \"description\": \"\"\n      }\n    },\n    {\n      \"column\": \"AAC_W\",\n      \"properties\": {\n        \"dtype\": \"number\",\n        \"std\": 3.7828186661162806,\n        \"min\": 0.0,\n        \"max\": 38.46,\n        \"num_unique_values\": 42,\n        \"samples\": [\n          9.52,\n          20.0,\n          30.77\n        ],\n        \"semantic_type\": \"\",\n        \"description\": \"\"\n      }\n    },\n    {\n      \"column\": \"AAC_Y\",\n      \"properties\": {\n        \"dtype\": \"number\",\n        \"std\": 2.9991734469229248,\n        \"min\": 0.0,\n        \"max\": 19.05,\n        \"num_unique_values\": 43,\n        \"samples\": [\n          3.57,\n          4.35,\n          13.04\n        ],\n        \"semantic_type\": \"\",\n        \"description\": \"\"\n      }\n    }\n  ]\n}"
            }
          },
          "metadata": {},
          "execution_count": 27
        }
      ]
    },
    {
      "cell_type": "code",
      "source": [
        "# Dipeptide composition (DPC)\n",
        "\n",
        "from Pfeature.pfeature import dpc_wp\n",
        "\n",
        "def dpc(input):\n",
        "  a = input.rstrip('txt')\n",
        "  output = a + 'dpc.csv'\n",
        "  df_out = dpc_wp(input, output, 1)\n",
        "  df_in = pd.read_csv(output)\n",
        "  return df_in\n",
        "\n",
        "feature = dpc('train_po_cdhit.txt')\n",
        "feature"
      ],
      "metadata": {
        "id": "flEg7-pu_mWe"
      },
      "execution_count": null,
      "outputs": []
    },
    {
      "cell_type": "markdown",
      "source": [
        "#Combining both Negative and Positive"
      ],
      "metadata": {
        "id": "2PmZWZi7AgpI"
      }
    },
    {
      "cell_type": "code",
      "source": [
        "pos = 'train_po_cdhit.txt'\n",
        "neg = 'train_ne_cdhit.txt'\n",
        "\n",
        "def feature_calc(po, ne, feature_name):\n",
        "  # Calculate feature\n",
        "  po_feature = feature_name(po)\n",
        "  ne_feature = feature_name(ne)\n",
        "  # Create class labels\n",
        "  po_class = pd.Series(['positive' for i in range(len(po_feature))])\n",
        "  ne_class = pd.Series(['negative' for i in range(len(ne_feature))])\n",
        "  # Combine po and ne\n",
        "  po_ne_class = pd.concat([po_class, ne_class], axis=0)\n",
        "  po_ne_class.name = 'class'\n",
        "  po_ne_feature = pd.concat([po_feature, ne_feature], axis=0)\n",
        "  # Combine feature and class\n",
        "  df = pd.concat([po_ne_feature, po_ne_class], axis=1)\n",
        "  return df\n",
        "\n",
        "feature = feature_calc(pos, neg, aac) # AAC\n",
        "# Since DPC takes a while to calculate I commented it out since it was already ran above\n",
        "#feature = feature_calc(pos, neg, dpc) # DPC\n",
        "feature"
      ],
      "metadata": {
        "id": "MQ_KTkL_Ad1y"
      },
      "execution_count": null,
      "outputs": []
    },
    {
      "cell_type": "markdown",
      "source": [
        "# Data Pre-processing"
      ],
      "metadata": {
        "id": "tRmxolP5CkSc"
      }
    },
    {
      "cell_type": "code",
      "source": [
        "# Assigns the features to X and class label to Y\n",
        "X = feature.drop('class', axis=1)\n",
        "y = feature['class'].copy()"
      ],
      "metadata": {
        "id": "3YzApXFoCjj9"
      },
      "execution_count": null,
      "outputs": []
    },
    {
      "cell_type": "code",
      "source": [
        "y = y.map({'positive': 1, 'negative': 0})"
      ],
      "metadata": {
        "id": "4q9puMKTCwuG"
      },
      "execution_count": null,
      "outputs": []
    },
    {
      "cell_type": "markdown",
      "source": [
        "There are a total of 2759 different peptides that are both positive and negative in this dataframe."
      ],
      "metadata": {
        "id": "IwM5HhDRC441"
      }
    },
    {
      "cell_type": "code",
      "source": [
        "X.shape"
      ],
      "metadata": {
        "id": "-sll7LETCsXg"
      },
      "execution_count": null,
      "outputs": []
    },
    {
      "cell_type": "code",
      "source": [
        "# Feature selection (Variance threshold)\n",
        "from sklearn.feature_selection import VarianceThreshold\n",
        "\n",
        "fs = VarianceThreshold(threshold=0.1)\n",
        "fs.fit_transform(X)\n",
        "#X2.shape\n",
        "X2 = X.loc[:, fs.get_support()]\n",
        "X2"
      ],
      "metadata": {
        "id": "zN1eayF6C0bX"
      },
      "execution_count": null,
      "outputs": []
    },
    {
      "cell_type": "code",
      "source": [
        "# Data split\n",
        "from sklearn.model_selection import train_test_split\n",
        "\n",
        "X_train, X_test, y_train, y_test = train_test_split(X2, y, test_size=0.2, random_state =42, stratify=y)"
      ],
      "metadata": {
        "id": "RNuwiuitszC5"
      },
      "execution_count": null,
      "outputs": []
    },
    {
      "cell_type": "markdown",
      "source": [],
      "metadata": {
        "id": "9hAcnavss4AT"
      }
    },
    {
      "cell_type": "code",
      "source": [
        "#installing lazypredict library for fast model creation\n",
        "! pip install lazypredict"
      ],
      "metadata": {
        "id": "jYccRMRhs2p1"
      },
      "execution_count": null,
      "outputs": []
    },
    {
      "cell_type": "code",
      "source": [
        "# Import libraries\n",
        "import lazypredict\n",
        "from lazypredict.Supervised import LazyClassifier\n",
        "from sklearn.model_selection import train_test_split\n",
        "from sklearn.metrics import matthews_corrcoef\n",
        "\n",
        "# Load dataset\n",
        "X = feature.drop('class', axis=1)\n",
        "y = feature['class'].copy()\n",
        "\n",
        "# Data split\n",
        "X_train, X_test, y_train, y_test = train_test_split(X, y, test_size=0.2, random_state =42, stratify=y)\n",
        "\n",
        "# Defines and builds the lazyclassifier\n",
        "clf = LazyClassifier(verbose=0,ignore_warnings=True, custom_metric=matthews_corrcoef)\n",
        "models_train,predictions_train = clf.fit(X_train, X_train, y_train, y_train)\n",
        "#models_test,predictions_test = clf.fit(X_train, X_test, y_train, y_test)"
      ],
      "metadata": {
        "id": "jeBzr1UBA2s8"
      },
      "execution_count": null,
      "outputs": []
    },
    {
      "cell_type": "code",
      "source": [
        "models_train"
      ],
      "metadata": {
        "id": "QEmRyeG9A6Eh"
      },
      "execution_count": null,
      "outputs": []
    },
    {
      "cell_type": "code",
      "source": [
        "models_test"
      ],
      "metadata": {
        "id": "ioJthdsNA-Pn"
      },
      "execution_count": null,
      "outputs": []
    },
    {
      "cell_type": "code",
      "source": [
        "import matplotlib.pyplot as plt\n",
        "import seaborn as sns\n",
        "\n",
        "plt.figure(figsize=(5, 10))\n",
        "sns.set_theme(style=\"whitegrid\")\n",
        "ax = sns.barplot(y=models_train.index, x=\"Accuracy\", data=models_train)\n",
        "ax.set(xlim=(0, 1))"
      ],
      "metadata": {
        "id": "zZSXB70nBBhx"
      },
      "execution_count": null,
      "outputs": []
    },
    {
      "cell_type": "code",
      "source": [
        "import matplotlib.pyplot as plt\n",
        "import seaborn as sns\n",
        "\n",
        "plt.figure(figsize=(5, 10))\n",
        "sns.set_theme(style=\"whitegrid\")\n",
        "ax = sns.barplot(y=models_train.index, x=\"matthews_corrcoef\", data=models_train)\n",
        "ax.set(xlim=(0, 1))"
      ],
      "metadata": {
        "id": "N2Wo5a9hBGqt"
      },
      "execution_count": null,
      "outputs": []
    },
    {
      "cell_type": "markdown",
      "source": [
        "#Building Random forest model"
      ],
      "metadata": {
        "id": "HdxyxH5MBNEf"
      }
    },
    {
      "cell_type": "code",
      "source": [
        "# Build random forest model\n",
        "\n",
        "from sklearn.ensemble import RandomForestClassifier\n",
        "\n",
        "rf = RandomForestClassifier(n_estimators=500)\n",
        "\n",
        "rf.fit(X_train, y_train)"
      ],
      "metadata": {
        "id": "esbfI-mtBL4z"
      },
      "execution_count": null,
      "outputs": []
    },
    {
      "cell_type": "code",
      "source": [
        "y_train_pred = rf.predict(X_train)\n",
        "y_test_pred = rf.predict(X_test)"
      ],
      "metadata": {
        "id": "Qo6GWlEPBQUn"
      },
      "execution_count": null,
      "outputs": []
    },
    {
      "cell_type": "code",
      "source": [
        "feature['class']"
      ],
      "metadata": {
        "id": "7iQM_86cBUDR"
      },
      "execution_count": null,
      "outputs": []
    },
    {
      "cell_type": "code",
      "source": [
        "# Simplest and quickest way to obtain the model performance (Accuracy)\n",
        "rf.score(X_test,y_test)"
      ],
      "metadata": {
        "id": "C5dVmbhNBVX5"
      },
      "execution_count": null,
      "outputs": []
    },
    {
      "cell_type": "code",
      "source": [
        "# Accuracy\n",
        "from sklearn.metrics import accuracy_score\n",
        "\n",
        "accuracy_score(y_test, y_test_pred)"
      ],
      "metadata": {
        "id": "XtQ4KvbmBXNy"
      },
      "execution_count": null,
      "outputs": []
    },
    {
      "cell_type": "code",
      "source": [
        "# Matthew Correlation Coefficient\n",
        "from sklearn.metrics import matthews_corrcoef\n",
        "\n",
        "matthews_corrcoef(y_test, y_test_pred)"
      ],
      "metadata": {
        "id": "bDaBTrnxBY_s"
      },
      "execution_count": null,
      "outputs": []
    },
    {
      "cell_type": "code",
      "source": [
        "# Confusion matrix\n",
        "from sklearn.metrics import confusion_matrix\n",
        "\n",
        "confusion_matrix(y_test, y_test_pred)"
      ],
      "metadata": {
        "id": "DXP3F90oBbT3"
      },
      "execution_count": null,
      "outputs": []
    },
    {
      "cell_type": "code",
      "source": [
        "# Classification report\n",
        "from sklearn.metrics import classification_report\n",
        "\n",
        "model_report = classification_report(y_train, y_train_pred, target_names=['positive','negative'])\n",
        "\n",
        "f = open('model_report.txt','w')\n",
        "f.writelines(model_report)\n",
        "f.close()"
      ],
      "metadata": {
        "id": "H9MBQ5KgBdjW"
      },
      "execution_count": null,
      "outputs": []
    },
    {
      "cell_type": "code",
      "source": [
        "# ROC curve\n",
        "import matplotlib.pyplot as plt\n",
        "from sklearn.metrics import plot_roc_curve\n",
        "\n",
        "plot_roc_curve(rf, X_test, y_test)\n",
        "plt.show()"
      ],
      "metadata": {
        "id": "VuhbY-UWBfNV"
      },
      "execution_count": null,
      "outputs": []
    },
    {
      "cell_type": "code",
      "source": [
        "plot_roc_curve(rf, X_train, y_train)\n",
        "plt.show()"
      ],
      "metadata": {
        "id": "bO5KOn_GBhK1"
      },
      "execution_count": null,
      "outputs": []
    },
    {
      "cell_type": "code",
      "source": [
        "# Display Dataframe of the dataset after feature selection (variance threshold)\n",
        "X2"
      ],
      "metadata": {
        "id": "LQ1E2P6eBkC5"
      },
      "execution_count": null,
      "outputs": []
    },
    {
      "cell_type": "code",
      "source": [
        "# Retrieve feature importance from the RF model\n",
        "importance = pd.Series(rf.feature_importances_, name = 'Gini')\n",
        "\n",
        "# Retrieve feature names\n",
        "feature_names = pd.Series(X2.columns, name = 'Feature')"
      ],
      "metadata": {
        "id": "bJ5F3E9GBltr"
      },
      "execution_count": null,
      "outputs": []
    },
    {
      "cell_type": "code",
      "source": [
        "# Combine feature names and Gini values into a Dataframe\n",
        "df = pd.concat([feature_names, importance], axis=1, names=['Feature', 'Gini'])\n",
        "df"
      ],
      "metadata": {
        "id": "RBDaIjeGBoRq"
      },
      "execution_count": null,
      "outputs": []
    },
    {
      "cell_type": "code",
      "source": [
        "# Plot of feature importance\n",
        "import matplotlib.pyplot as plt\n",
        "import seaborn as sns\n",
        "\n",
        "df_sorted = df.sort_values('Gini', ascending=False)[:20] # Sort by Gini in descending order; Showing only the top 20 results\n",
        "\n",
        "plt.figure(figsize=(5, 10))\n",
        "sns.set_theme(style=\"whitegrid\")\n",
        "ax = sns.barplot(x = 'Gini', y = 'Feature', data = df_sorted)\n",
        "plt.xlabel(\"Feature Importance\")"
      ],
      "metadata": {
        "id": "rm0Q6lO2BqL5"
      },
      "execution_count": null,
      "outputs": []
    }
  ]
}